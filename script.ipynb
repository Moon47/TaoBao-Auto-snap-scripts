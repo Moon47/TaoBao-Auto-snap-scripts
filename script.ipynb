{
 "cells": [
  {
   "cell_type": "code",
   "execution_count": 7,
   "metadata": {},
   "outputs": [],
   "source": [
    "import time\n",
    "from datetime import datetime\n",
    "from selenium import webdriver\n",
    "from selenium.webdriver.common.by import By\n",
    "from selenium.webdriver.common.keys import Keys\n",
    "from selenium.webdriver.support.ui import WebDriverWait\n",
    "from selenium.webdriver.support import expected_conditions as EC\n",
    "import schedule"
   ]
  },
  {
   "cell_type": "code",
   "execution_count": 8,
   "metadata": {},
   "outputs": [],
   "source": [
    "def login_taobao(driver):\n",
    "    driver.get('https://cart.taobao.com')\n",
    "    # 手动扫码登录，或填写账号密码登录\n",
    "    print(\"请在5秒内完成登录...\")\n",
    "    time.sleep(5)"
   ]
  },
  {
   "cell_type": "code",
   "execution_count": 9,
   "metadata": {},
   "outputs": [],
   "source": [
    "def choose_item(driver):\n",
    "    try:\n",
    "        # 刷新购物车页面\n",
    "        driver.get('https://cart.taobao.com')\n",
    "        \n",
    "        # 等待购物车页面加载完成\n",
    "        wait = WebDriverWait(driver, 10)\n",
    "        wait.until(EC.presence_of_element_located((By.CLASS_NAME, \"J_CheckBoxItem\")))\n",
    "        \n",
    "        # 选择购物车中的前三件商品\n",
    "        checkboxes = driver.find_elements(By.CLASS_NAME, \"J_CheckBoxItem\")\n",
    "        for checkbox in checkboxes[:3]:\n",
    "            checkbox.click()\n",
    "    except Exception as e:\n",
    "        print(f\"选货过程中出错: {e}\")\n"
   ]
  },
  {
   "cell_type": "code",
   "execution_count": 10,
   "metadata": {},
   "outputs": [],
   "source": [
    "def buy_item(driver, wait):\n",
    "    try:\n",
    "        # 点击结算按钮\n",
    "        settle = driver.find_element(By.CLASS_NAME, \"J_Go\")\n",
    "        settle.click()\n",
    "        \n",
    "        # 等待结算页面加载完成\n",
    "        wait.until(EC.presence_of_element_located((By.CLASS_NAME, \"go-btn\")))\n",
    "        \n",
    "        # 点击提交订单按钮\n",
    "        submit_order = driver.find_element(By.CLASS_NAME, \"go-btn\")\n",
    "        submit_order.click()\n",
    "        \n",
    "        print(\"抢购尝试已完成\")\n",
    "    except Exception as e:\n",
    "        print(f\"抢购过程中出错: {e}\")"
   ]
  },
  {
   "cell_type": "code",
   "execution_count": 11,
   "metadata": {},
   "outputs": [],
   "source": [
    "def schedule_purchase(time_str):\n",
    "    # 设置Chrome WebDriver\n",
    "    options = webdriver.ChromeOptions()\n",
    "    options.add_argument('--start-maximized')\n",
    "    driver = webdriver.Chrome(options=options)\n",
    "    \n",
    "    # 登录淘宝\n",
    "    login_taobao(driver)\n",
    "    \n",
    "    # 安排抢购任务\n",
    "    choose_item(driver)\n",
    "    schedule.every().day.at(time_str).do(buy_item, driver)\n",
    "    \n",
    "    while True:\n",
    "        schedule.run_pending()\n",
    "        time.sleep(1)"
   ]
  },
  {
   "cell_type": "code",
   "execution_count": 12,
   "metadata": {},
   "outputs": [
    {
     "name": "stdout",
     "output_type": "stream",
     "text": [
      "请在5秒内完成登录...\n",
      "选货过程中出错: Message: element not interactable\n",
      "  (Session info: chrome=125.0.6422.142)\n",
      "\n"
     ]
    }
   ],
   "source": [
    "if __name__ == \"__main__\":\n",
    "    purchase_time = \"15:52:00\"\n",
    "    schedule_purchase(purchase_time)"
   ]
  }
 ],
 "metadata": {
  "kernelspec": {
   "display_name": "dl",
   "language": "python",
   "name": "python3"
  },
  "language_info": {
   "codemirror_mode": {
    "name": "ipython",
    "version": 3
   },
   "file_extension": ".py",
   "mimetype": "text/x-python",
   "name": "python",
   "nbconvert_exporter": "python",
   "pygments_lexer": "ipython3",
   "version": "3.9.18"
  }
 },
 "nbformat": 4,
 "nbformat_minor": 2
}
