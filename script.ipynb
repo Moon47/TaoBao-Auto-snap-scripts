{
 "cells": [
  {
   "cell_type": "code",
   "execution_count": null,
   "metadata": {},
   "outputs": [],
   "source": [
    "import time\n",
    "from datetime import datetime\n",
    "from selenium import webdriver\n",
    "from selenium.webdriver.common.by import By\n",
    "from selenium.webdriver.common.keys import Keys\n",
    "from selenium.webdriver.support.ui import WebDriverWait\n",
    "from selenium.webdriver.support import expected_conditions as EC\n",
    "import schedule"
   ]
  },
  {
   "cell_type": "code",
   "execution_count": null,
   "metadata": {},
   "outputs": [],
   "source": [
    "def login_taobao(driver):\n",
    "    driver.get('https://www.taobao.com')\n",
    "    # 手动扫码登录，或填写账号密码登录"
   ]
  },
  {
   "cell_type": "code",
   "execution_count": null,
   "metadata": {},
   "outputs": [],
   "source": [
    "def choose_item(driver):\n",
    "    try:\n",
    "        # 刷新购物车页面\n",
    "        driver.get('https://cart.taobao.com')\n",
    "\n",
    "        # 等待购物车页面加载完成\n",
    "        wait = WebDriverWait(driver, 10)\n",
    "        wait.until(EC.presence_of_element_located((By.CLASS_NAME, \"J_CheckBoxItem\")))\n",
    "\n",
    "        # 选择购物车中的前三件商品\n",
    "        checkboxes = driver.find_elements(By.CLASS_NAME, \"J_CheckBoxItem\")\n",
    "        for checkbox in checkboxes[:3]:\n",
    "            checkbox.click()\n",
    "    except Exception as e:\n",
    "        print(f\"选货过程中出错: {e}\")"
   ]
  },
  {
   "cell_type": "code",
   "execution_count": null,
   "metadata": {},
   "outputs": [],
   "source": [
    "def buy_item(driver):\n",
    "    # wait = WebDriverWait(driver, 10)\n",
    "    try:\n",
    "        # 点击结算按钮\n",
    "        while True:\n",
    "            try:\n",
    "                if driver.find_element_by_link_text(\"结 算\"):\n",
    "                    driver.find_element_by_link_text(\"结 算\").click()\n",
    "                    print(\"结算成功\")\n",
    "                    break\n",
    "            except Exception as e:\n",
    "                pass\n",
    "\n",
    "        # # 等待结算页面加载完成\n",
    "        # wait.until(EC.presence_of_element_located((By.CLASS_NAME, \"go-btn\")))\n",
    "        while True:\n",
    "            try:\n",
    "                if driver.find_element_by_link_text('提交订单'):\n",
    "                    driver.find_element_by_link_text('提交订单').click()\n",
    "                    now1 = datetime.now().strftime('%Y-%m-%d %H:%M:%S.%f')\n",
    "                    print(\"抢购成功时间：%s\" % now1)\n",
    "                    break\n",
    "            except Exception:\n",
    "                print(\"再次尝试提交订单\")\n",
    "\n",
    "        print(\"抢购尝试已完成\")\n",
    "    except Exception as e:\n",
    "        print(f\"抢购过程中出错: {e}\")"
   ]
  },
  {
   "cell_type": "code",
   "execution_count": null,
   "metadata": {},
   "outputs": [],
   "source": [
    "def schedule_purchase(time_str):\n",
    "    # 设置Chrome WebDriver\n",
    "    options = webdriver.ChromeOptions()\n",
    "    options.add_argument('--start-maximized')\n",
    "    driver = webdriver.Chrome(options=options)\n",
    "\n",
    "    # 登录淘宝\n",
    "    login_taobao(driver)\n",
    "\n",
    "    # 安排抢购任务\n",
    "    # choose_item(driver)\n",
    "\n",
    "    # 刷新购物车页面\n",
    "    driver.get('https://cart.taobao.com')\n",
    "    # time.sleep(5)\n",
    "    # now = datetime.now().strftime('%Y-%m-%d %H:%M:%S.%f')\n",
    "    # 手动选择商品\n",
    "    # schedule.every().day.at(time_str).do(buy_item, driver)\n",
    "    while True:\n",
    "        now = datetime.now().strftime('%H:%M:%S.%f')\n",
    "        print(now)\n",
    "        # 对比时间，时间到的话就点击结算\n",
    "        if now > time_str:\n",
    "            buy_item(driver)\n",
    "\n",
    "    # while True:\n",
    "    #     schedule.run_pending()\n",
    "    #     time.sleep(1)"
   ]
  },
  {
   "cell_type": "code",
   "execution_count": null,
   "metadata": {},
   "outputs": [],
   "source": [
    "if __name__ == \"__main__\":\n",
    "    purchase_time = \"20:02:00\"\n",
    "    schedule_purchase(purchase_time)"
   ]
  }
 ],
 "metadata": {
  "kernelspec": {
   "display_name": "dl",
   "language": "python",
   "name": "python3"
  },
  "language_info": {
   "codemirror_mode": {
    "name": "ipython",
    "version": 3
   },
   "file_extension": ".py",
   "mimetype": "text/x-python",
   "name": "python",
   "nbconvert_exporter": "python",
   "pygments_lexer": "ipython3",
   "version": "3.9.18"
  }
 },
 "nbformat": 4,
 "nbformat_minor": 2
}
